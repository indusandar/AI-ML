
  {
   "cell_type": "markdown",
   "id": "ed833162",
   "metadata": {},
   "source": [
    "# Text summarizer and summary"
   ]
  },
  {
   "cell_type": "code",
   "execution_count": 1,
   "id": "d58746e7",
   "metadata": {},
   "outputs": [
    {
     "name": "stderr",
     "output_type": "stream",
     "text": [
      "C:\\ProgramData\\Anaconda3\\lib\\site-packages\\scipy\\__init__.py:138: UserWarning: A NumPy version >=1.16.5 and <1.23.0 is required for this version of SciPy (detected version 1.24.3)\n",
      "  warnings.warn(f\"A NumPy version >={np_minversion} and <{np_maxversion} is required for this version of \"\n"
     ]
    }
   ],
   "source": [
    "import nltk\n",
    "from nltk.corpus import stopwords\n",
    "from nltk.tokenize import word_tokenize, sent_tokenize"
   ]
  },
  {
   "cell_type": "code",
   "execution_count": 2,
   "id": "03df892f",
   "metadata": {},
   "outputs": [],
   "source": [
    "text = \"\"\" HOLIDAYS\n",
    "Full-time employees are granted six and a half-paid holidays per year on or about the holiday\n",
    "dates listed below:\n",
    "• New Year’s Day; January 1\n",
    "• Memorial Day; last Monday of May\n",
    "• Independence Day; July 4\n",
    "• Labor Day; first Monday of September\n",
    "• Thanksgiving Day; fourth Thursday of November\n",
    "• Christmas Eve; December 24, Half Day\n",
    "• Christmas Day; December 25\n",
    "If the holiday falls on a Saturday, it will be observed the Friday before the holiday. If the holiday\n",
    "falls on a Sunday, it will be observed on the Monday following the holiday. Holiday pay is based\n",
    "upon eight hours per day. In order to receive holiday pay, employees must be in an active\n",
    "employment status (not on leave) both on the day before the holiday and the day after the\n",
    "holiday.\n",
    "FLOATING HOLIDAYS\n",
    "Full-time employees are granted two (2) floating holidays per calendar year on January 1.\n",
    "Non-full-time employees are not eligible for floating holidays under this policy.\n",
    "Available floating holidays must be used in an 8-hour segment. Floating holidays are not eligible\n",
    "for roll-over and will not be paid out if unused at the end of the calendar year unless otherwise\n",
    "required by applicable law. Full-time employees who start at the Company January 2 through\n",
    "June 30 will receive one (1) Floating Holiday on July 1, to expire on December 31.\n",
    "Any unused floating holidays will not be paid out (i.e., will be forfeited) upon separation of\n",
    "employment, unless otherwise required by applicable law.\"\"\""
   ]
  },
  {
   "cell_type": "code",
   "execution_count": 3,
   "id": "98751061",
   "metadata": {},
   "outputs": [],
   "source": [
    "# Tokenizing the text\n",
    "stopWords = set(stopwords.words(\"english\"))\n",
    "words = word_tokenize(text)\n",
    "   \n",
    "# Creating a frequency table to keep the \n",
    "# score of each word\n",
    "   \n",
    "freqTable = dict()\n",
    "for word in words:\n",
    "    word = word.lower()\n",
    "    if word in stopWords:\n",
    "        continue\n",
    "    if word in freqTable:\n",
    "        freqTable[word] += 1\n",
    "    else:\n",
    "        freqTable[word] = 1"
   ]
  },
  {
   "cell_type": "code",
   "execution_count": 4,
   "id": "381f7458",
   "metadata": {},
   "outputs": [
    {
     "name": "stdout",
     "output_type": "stream",
     "text": [
      "  HOLIDAYS\n",
      "Full-time employees are granted six and a half-paid holidays per year on or about the holiday\n",
      "dates listed below:\n",
      "• New Year’s Day; January 1\n",
      "• Memorial Day; last Monday of May\n",
      "• Independence Day; July 4\n",
      "• Labor Day; first Monday of September\n",
      "• Thanksgiving Day; fourth Thursday of November\n",
      "• Christmas Eve; December 24, Half Day\n",
      "• Christmas Day; December 25\n",
      "If the holiday falls on a Saturday, it will be observed the Friday before the holiday.\n"
     ]
    }
   ],
   "source": [
    "# Creating a dictionary to keep the score\n",
    "# of each sentence\n",
    "sentences = sent_tokenize(text)\n",
    "sentenceValue = dict()\n",
    "   \n",
    "for sentence in sentences:\n",
    "    for word, freq in freqTable.items():\n",
    "        if word in sentence.lower():\n",
    "            if sentence in sentenceValue:\n",
    "                sentenceValue[sentence] += freq\n",
    "            else:\n",
    "                sentenceValue[sentence] = freq\n",
    "sumValues = 0\n",
    "for sentence in sentenceValue:\n",
    "    sumValues += sentenceValue[sentence]  \n",
    "# Average value of a sentence from the original text\n",
    "   \n",
    "average = int(sumValues / len(sentenceValue))\n",
    "   \n",
    "# Storing sentences into our summary.\n",
    "summary = ''\n",
    "for sentence in sentences:\n",
    "    if (sentence in sentenceValue) and (sentenceValue[sentence] > (1.2 * average)):\n",
    "        summary += \" \" + sentence\n",
    "print(summary)"
   ]
  },
  {
   "cell_type": "code",
   "execution_count": null,
   "id": "44a93a71",
   "metadata": {},
   "outputs": [],
   "source": []
  }
 ],
 "metadata": {
  "kernelspec": {
   "display_name": "Python 3",
   "language": "python",
   "name": "python3"
  },
  "language_info": {
   "codemirror_mode": {
    "name": "ipython",
    "version": 3
   },
   "file_extension": ".py",
   "mimetype": "text/x-python",
   "name": "python",
   "nbconvert_exporter": "python",
   "pygments_lexer": "ipython3",
   "version": "3.8.8"
  }
 },
 "nbformat": 4,
 "nbformat_minor": 5
}
